{
 "cells": [
  {
   "cell_type": "code",
   "execution_count": 1,
   "metadata": {
    "collapsed": true
   },
   "outputs": [],
   "source": [
    "import matplotlib.pyplot as plt\n",
    "import numpy as np\n",
    "%matplotlib inline"
   ]
  },
  {
   "cell_type": "markdown",
   "metadata": {},
   "source": [
    " Setting \n",
    "$$\n",
    "M_0 = \\delta v \\sum_i T_i\n",
    "$$\n",
    "and\n",
    "$$\n",
    "M_1 = \\frac{\\sum_i T_i v_i }{\\sum_i T_i} = \\frac{\\delta v}{M_0}\\sum_i T_i v_i \n",
    "$$\n",
    "This considers the quadrature error propagation formula and the error on $T_i$ given as $\\sigma_i$, which is appropriate under the assumption that the $\\sigma_i$ are uncorrelated.  In general, we treat\n",
    "$$\n",
    "\\frac{\\partial T_i }{\\partial T_j} = \\delta_{ij}\n",
    "$$\n",
    "\n",
    "$$\n",
    "\\sigma_{M1}^2  = \\sum_i \\left(\\frac{\\partial M_1}{\\partial T_i}\\right)^2 \\sigma_i^2 \\\\\n",
    " =  \\sum_i \\left( \\frac{v_i}{M_0} + \\frac{\\partial}{\\partial T_i}\\frac{1}{M_0}\\right)^2 \\sigma_i^2\\\\\n",
    " =  \\sum_i \\left(\\frac{v_i}{M_0}-\\sum_j v_j T_j \\frac{\\delta v}{M_0^2} \\right)^2 \\sigma_i^2\\\\\n",
    " =  \\sum_i \\left(\\frac{v_i}{M_0}- \\frac{M_1 \\delta v}{M_0^2} \\right)^2 \\sigma_i^2\\\\\n",
    "$$\n",
    "\n",
    "\n",
    "[This](http://stats.stackexchange.com/questions/25895/computing-standard-error-in-weighted-mean-estimation) stack overflow seems to indicate disagreement is expected.  They refer to a stats paper [here](http://www.cs.tufts.edu/~nr/cs257/archive/donald-gatz/weighted-standard-error.pdf) gives an estimator validated from boostrapping.\n",
    "\n",
    "Setting $\\bar{T} = N^{-1} \\sum T_i$.\n",
    "\n",
    "$$\n",
    "\\frac{N}{(N-1) M_0^2 } \\left[ \\sum_i \\left(T_i v_i - \\bar{T} M_1 \\right)^2 - 2 M_1 \\sum_i (T_i - \\bar{T})(T_i v_i - \\bar{T} M_1) + M_1^2 \\sum_i (T_i - \\bar{T})^2\\right]\n",
    "$$\n"
   ]
  },
  {
   "cell_type": "code",
   "execution_count": 120,
   "metadata": {
    "collapsed": false
   },
   "outputs": [],
   "source": [
    "ntrials = 10000\n",
    "snr = 5\n",
    "noise = 1.0/snr\n",
    "v = np.linspace(0,10,301)\n",
    "mom0estimator = np.zeros(ntrials)\n",
    "mom1estimator = np.zeros(ntrials)\n",
    "mom1varest = np.zeros(ntrials)\n",
    "mom1varest_ewr = np.zeros(ntrials)\n",
    "mom1varest_akl = np.zeros(ntrials)\n",
    "mom1varest_stats = np.zeros(ntrials)\n",
    "mom0varest = np.zeros(ntrials)\n",
    "line = np.exp(-(v-np.pi)**2/(2*np.exp(-2)))\n",
    "\n",
    "for idx in np.arange(ntrials):\n",
    "    noisy = line + 1.0/snr * np.random.randn(len(v))\n",
    "    mom0 = np.sum(noisy)\n",
    "    mom0estimator[idx] = mom0\n",
    "    mom1estimator[idx] = np.sum(noisy * v)/mom0\n",
    "    mom1varest_ewr[idx] = (1.0/snr)**2 * np.sum(((v * mom0 - mom1estimator[idx])/ mom0**2)**2)\n",
    "    mom1varest_akl[idx] = (1/mom0) *  np.sqrt(np.sum((v-mom1estimator[idx])*noise)**2)\n",
    "    n = len(noisy)\n",
    "    wtmean = np.sum(noisy * v) / np.sum(noisy)\n",
    "    wtbar = np.mean(noisy)\n",
    "    wt = noisy\n",
    "    mom1varest_stats[idx] = n/((n-1)*np.sum(wt)**2)*\\\n",
    "        (np.sum((wt*v-wtbar*wtmean)**2)-\n",
    "         2*wtmean*np.sum((wt-wtbar)*(wt*v-wtbar*wtmean))+\n",
    "         wtmean**2*np.sum((wt-wtbar)**2))"
   ]
  },
  {
   "cell_type": "code",
   "execution_count": 121,
   "metadata": {
    "collapsed": false
   },
   "outputs": [
    {
     "name": "stdout",
     "output_type": "stream",
     "text": [
      "Std. Deviation of Estimator: 0.438403024153\n",
      "Stats Estimator: 0.45327367031\n",
      "EWR Estimator: 0.724106590224\n",
      "AKL Estimator: 2.03240640731\n"
     ]
    },
    {
     "data": {
      "image/png": "[encoded data removed]",
      "text/plain": [
       "<matplotlib.figure.Figure at 0x10a2a8190>"
      ]
     },
     "metadata": {},
     "output_type": "display_data"
    }
   ],
   "source": [
    "plt.hist(mom1estimator)\n",
    "print \"Std. Deviation of Estimator: {0}\".format(np.std(mom1estimator))\n",
    "print \"Stats Estimator: {0}\".format(np.mean(mom1varest_stats**0.5))\n",
    "print \"EWR Estimator: {0}\".format(np.mean(mom1varest_ewr**0.5))\n",
    "print \"AKL Estimator: {0}\".format(np.mean(mom1varest_akl**0.5))"
   ]
  },
  {
   "cell_type": "code",
   "execution_count": null,
   "metadata": {
    "collapsed": true
   },
   "outputs": [],
   "source": []
  }
 ],
 "metadata": {
  "kernelspec": {
   "display_name": "Python 2",
   "language": "python",
   "name": "python2"
  },
  "language_info": {
   "codemirror_mode": {
    "name": "ipython",
    "version": 2
   },
   "file_extension": ".py",
   "mimetype": "text/x-python",
   "name": "python",
   "nbconvert_exporter": "python",
   "pygments_lexer": "ipython2",
   "version": "2.7.12"
  }
 },
 "nbformat": 4,
 "nbformat_minor": 0
}
